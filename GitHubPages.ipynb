{
 "cells": [
  {
   "attachments": {},
   "cell_type": "markdown",
   "metadata": {},
   "source": [
    "** Hola chicos aqui es donde vamos a armar el sitio web de GitHub Pages, este es un ipynb que solo debe tener markdown, una vez lo exportamos a html y lo renombramos como index.html github directamente lo va a reconocer como la pagina principal del sitio web y lo va a mostrar en la direccion https://juanfranciscocis.github.io/Assembly_Calculator_Final_Project/ **"
   ]
  },
  {
   "attachments": {},
   "cell_type": "markdown",
   "metadata": {},
   "source": [
    "# Assembly_Calculator_Final_Project\n",
    "### Edwin Jaramillo\n",
    "### Juan Francisco Cisneros\n",
    "### Randall Mencias\n",
    "### Daniela Gomez"
   ]
  },
  {
   "attachments": {},
   "cell_type": "markdown",
   "metadata": {},
   "source": [
    "### 1. Introduction\n",
    "#### Objetivo General\n",
    "- Desarrollar una calculadora en lenguaje Assembly que permita al estudiante aprender los \n",
    "fundamentos del lenguaje y aplicarlos en la resolución de operaciones aritméticas básicas.\n"
   ]
  },
  {
   "attachments": {},
   "cell_type": "markdown",
   "metadata": {},
   "source": [
    "#### Objetivos específicos\n",
    "- Reconocer la importancia de lenguajes de máquina como Assembly para comprender el \n",
    "funcionamiento interno de las computadoras y obtener habilidades útiles en el diseño de \n",
    "sistemas y aplicaciones de software.\n",
    "- Familiarizarse con los conceptos básicos de Assembly, como el uso de registros, memoria \n",
    "y de control de flujo.\n",
    "- Desarrollar habilidades de programación en Assembly, mediante la creación de funciones \n",
    "y subrutinas para realizar operaciones aritméticas"
   ]
  },
  {
   "attachments": {},
   "cell_type": "markdown",
   "metadata": {},
   "source": [
    "#### Descripción del proyecto\n",
    "- El presente proyecto consiste en implementar una calculadora en Assembly que permita realizar \n",
    "operaciones aritméticas básicas como suma, resta, multiplicación y división, así como logaritmos \n",
    "y funciones trigonométricas que incluyen seno, coseno, tangente y sus inversas. La calculadora\n",
    "permitirá al usuario ingresar los datos mediante el teclado y mostrar el resultado en pantalla. El \n",
    "proyecto incluirá pruebas unitarias para verificar el funcionamiento del código y se llevará a \n",
    "cabo utilizando programas, como Mars MIPS Simulator, para simular la ejecución de código. "
   ]
  },
  {
   "attachments": {},
   "cell_type": "markdown",
   "metadata": {},
   "source": [
    "#### Justificación\n",
    "- Assembly es un lenguaje de bajo nivel para interactuar directamente con la arquitectura y el \n",
    "hardware de una computadora, lo que lo convierte en una herramienta eficiente para el desarrollo \n",
    "de software de sistemas y aplicaciones de tiempo real. La creación de una calculadora implica la \n",
    "comprensión de conceptos fundamentales como el uso de registros y memoria, por lo que este \n",
    "trabajo permite aplicar conceptos teóricos en un contexto práctico que ayudará a comprender \n",
    "mejor los fundamentos de la informática. "
   ]
  },
  {
   "attachments": {},
   "cell_type": "markdown",
   "metadata": {},
   "source": [
    "### 2. Desarrollo"
   ]
  },
  {
   "attachments": {},
   "cell_type": "markdown",
   "metadata": {},
   "source": [
    "#### Suma"
   ]
  },
  {
   "attachments": {},
   "cell_type": "markdown",
   "metadata": {},
   "source": [
    "#### Resta"
   ]
  },
  {
   "attachments": {},
   "cell_type": "markdown",
   "metadata": {},
   "source": [
    "#### Multiplicación"
   ]
  },
  {
   "attachments": {},
   "cell_type": "markdown",
   "metadata": {},
   "source": [
    "#### División"
   ]
  },
  {
   "attachments": {},
   "cell_type": "markdown",
   "metadata": {},
   "source": [
    "#### Logaritmo base 10"
   ]
  },
  {
   "attachments": {},
   "cell_type": "markdown",
   "metadata": {},
   "source": [
    "##### Modulo"
   ]
  },
  {
   "attachments": {},
   "cell_type": "markdown",
   "metadata": {},
   "source": [
    "#### Potencia"
   ]
  },
  {
   "attachments": {},
   "cell_type": "markdown",
   "metadata": {},
   "source": [
    "#### Raiz"
   ]
  },
  {
   "attachments": {},
   "cell_type": "markdown",
   "metadata": {},
   "source": [
    "#### Seno, Coseno y Tangente"
   ]
  },
  {
   "attachments": {},
   "cell_type": "markdown",
   "metadata": {},
   "source": [
    "- Para el desarrollo de las funciones trigonométricas se queria utilizar la serie de Taylor para calcular el valor de cada función. La serie de Taylor es una aproximación de una función mediante una serie de potencias, y se define como:\n",
    "\n",
    "![taylor](https://github.com/juanfranciscocis/Assembly_Calculator_Final_Project/blob/1de916ce037b874dfc313580fad3513eb000bea9/IMAGENES_PAGINA_WEB/serieTaylor.png)"
   ]
  },
  {
   "attachments": {},
   "cell_type": "markdown",
   "metadata": {},
   "source": [
    "##### Inversa de Seno, Coseno y Tangente"
   ]
  },
  {
   "attachments": {},
   "cell_type": "markdown",
   "metadata": {},
   "source": [
    "### 3. Conclusiones"
   ]
  },
  {
   "attachments": {},
   "cell_type": "markdown",
   "metadata": {},
   "source": []
  }
 ],
 "metadata": {
  "kernelspec": {
   "display_name": "Python 3",
   "language": "python",
   "name": "python3"
  },
  "language_info": {
   "codemirror_mode": {
    "name": "ipython",
    "version": 3
   },
   "file_extension": ".py",
   "mimetype": "text/x-python",
   "name": "python",
   "nbconvert_exporter": "python",
   "pygments_lexer": "ipython3",
   "version": "3.11.3"
  },
  "orig_nbformat": 4
 },
 "nbformat": 4,
 "nbformat_minor": 2
}
