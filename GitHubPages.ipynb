{
 "cells": [
  {
   "attachments": {},
   "cell_type": "markdown",
   "metadata": {},
   "source": [
    "** Hola chicos aqui es donde vamos a armar el sitio web de GitHub Pages, este es un ipynb que solo debe tener markdown, una vez lo exportamos a html y lo renombramos como index.html github directamente lo va a reconocer como la pagina principal del sitio web y lo va a mostrar en la direccion https://juanfranciscocis.github.io/Assembly_Calculator_Final_Project/ **"
   ]
  },
  {
   "attachments": {},
   "cell_type": "markdown",
   "metadata": {},
   "source": [
    "# Assembly_Calculator_Final_Project\n",
    "### Edwin Jaramillo\n",
    "### Juan Francisco Cisneros\n",
    "### Randall Mencias\n",
    "### Daniela Gomez"
   ]
  },
  {
   "attachments": {},
   "cell_type": "markdown",
   "metadata": {},
   "source": [
    "### 1. Introduction\n",
    "#### Objetivo General\n",
    "- Desarrollar una calculadora en lenguaje Assembly que permita al estudiante aprender los \n",
    "fundamentos del lenguaje y aplicarlos en la resolución de operaciones aritméticas básicas.\n"
   ]
  },
  {
   "attachments": {},
   "cell_type": "markdown",
   "metadata": {},
   "source": [
    "#### Objetivos específicos\n",
    "- Reconocer la importancia de lenguajes de máquina como Assembly para comprender el \n",
    "funcionamiento interno de las computadoras y obtener habilidades útiles en el diseño de \n",
    "sistemas y aplicaciones de software.\n",
    "- Familiarizarse con los conceptos básicos de Assembly, como el uso de registros, memoria \n",
    "y de control de flujo.\n",
    "- Desarrollar habilidades de programación en Assembly, mediante la creación de funciones \n",
    "y subrutinas para realizar operaciones aritméticas"
   ]
  },
  {
   "attachments": {},
   "cell_type": "markdown",
   "metadata": {},
   "source": [
    "#### Descripción del proyecto\n",
    "- El presente proyecto consiste en implementar una calculadora en Assembly que permita realizar \n",
    "operaciones aritméticas básicas como suma, resta, multiplicación y división, así como logaritmos \n",
    "y funciones trigonométricas que incluyen seno, coseno, tangente y sus inversas. La calculadora\n",
    "permitirá al usuario ingresar los datos mediante el teclado y mostrar el resultado en pantalla. El \n",
    "proyecto incluirá pruebas unitarias para verificar el funcionamiento del código y se llevará a \n",
    "cabo utilizando programas, como Mars MIPS Simulator, para simular la ejecución de código. "
   ]
  },
  {
   "attachments": {},
   "cell_type": "markdown",
   "metadata": {},
   "source": [
    "#### Justificación\n",
    "- Assembly es un lenguaje de bajo nivel para interactuar directamente con la arquitectura y el \n",
    "hardware de una computadora, lo que lo convierte en una herramienta eficiente para el desarrollo \n",
    "de software de sistemas y aplicaciones de tiempo real. La creación de una calculadora implica la \n",
    "comprensión de conceptos fundamentales como el uso de registros y memoria, por lo que este \n",
    "trabajo permite aplicar conceptos teóricos en un contexto práctico que ayudará a comprender \n",
    "mejor los fundamentos de la informática. "
   ]
  },
  {
   "attachments": {},
   "cell_type": "markdown",
   "metadata": {},
   "source": [
    "### 2. Desarrollo"
   ]
  },
  {
   "attachments": {},
   "cell_type": "markdown",
   "metadata": {},
   "source": [
    "#### Macro \n",
    "Una macro es una secuencia de instrucciones que se definen una sola vez y se pueden invocar varias veces en diferentes partes de un programa. Una macro es similar a una función en otros lenguajes de programación, pero en lugar de tener una llamada de función, se tiene una llamada de macro.\n",
    "\n",
    "Cuando se define una macro, se especifica un nombre para la macro y se incluye una lista de instrucciones que se deben ejecutar cuando se llama la macro. Los parámetros también se pueden especificar en la definición de la macro, y estos parámetros se pueden utilizar en las instrucciones de la macro.\n",
    "\n",
    "Cuando se llama a una macro, los parámetros se pasan a la macro y se ejecutan las instrucciones de la macro en el lugar donde se realizó la llamada. En la mayoría de los ensambladores, las macros se definen utilizando la directiva \"macro\" y se terminan con la directiva \"endm\".\n",
    "\n",
    "Las macros se utilizan para hacer que el código sea más legible, más fácil de mantener y más fácil de reutilizar. Al definir una macro para una secuencia de instrucciones común, se puede utilizar la macro en lugar de escribir la secuencia de instrucciones repetidamente en diferentes partes del programa.\n",
    "\n",
    "Además, las macros también pueden utilizarse para definir instrucciones personalizadas que no están disponibles en el conjunto de instrucciones del procesador. De esta manera, se pueden crear macros para instrucciones complejas o que realizan múltiples operaciones para simplificar el código y hacerlo más legible.\n",
    "\n",
    "- Un ejemplo de como se define y usa una macro en el lenguaje de ensamblador:\n",
    "\n",
    "```\n",
    "; Definición de la macro\n",
    "macro add_numbers num1, num2\n",
    "    mov ax, num1\n",
    "    add ax, num2\n",
    "    mov result, ax\n",
    "endm\n",
    "\n",
    "; Llamada a la macro\n",
    "add_numbers 10, 20\n",
    "\n",
    "; Variables para almacenar los resultados\n",
    "result dw 0\n",
    "```\n",
    "- Este ejemplo muestra la sintaxis básica de una macro en ensamblador, donde se define la macro con la directiva \"macro\", se llama a la macro con los parámetros entre paréntesis, se utiliza una variable para almacenar el resultado."
   ]
  },
  {
   "attachments": {},
   "cell_type": "markdown",
   "metadata": {},
   "source": [
    "#### Suma"
   ]
  },
  {
   "attachments": {},
   "cell_type": "markdown",
   "metadata": {},
   "source": [
    "#### Resta"
   ]
  },
  {
   "attachments": {},
   "cell_type": "markdown",
   "metadata": {},
   "source": [
    "#### Multiplicación"
   ]
  },
  {
   "attachments": {},
   "cell_type": "markdown",
   "metadata": {},
   "source": [
    "#### División"
   ]
  },
  {
   "attachments": {},
   "cell_type": "markdown",
   "metadata": {},
   "source": [
    "#### Logaritmo base 10"
   ]
  },
  {
   "attachments": {},
   "cell_type": "markdown",
   "metadata": {},
   "source": [
    "##### Modulo"
   ]
  },
  {
   "attachments": {},
   "cell_type": "markdown",
   "metadata": {},
   "source": [
    "#### Potencia"
   ]
  },
  {
   "attachments": {},
   "cell_type": "markdown",
   "metadata": {},
   "source": [
    "#### Raiz"
   ]
  },
  {
   "attachments": {},
   "cell_type": "markdown",
   "metadata": {},
   "source": [
    "#### Seno, Coseno y Tangente"
   ]
  },
  {
   "attachments": {},
   "cell_type": "markdown",
   "metadata": {},
   "source": [
    "- Para el desarrollo de las funciones trigonométricas se queria utilizar la serie de Taylor para calcular el valor de cada función. La serie de Taylor es una aproximación de una función mediante una serie de potencias, y se define como:\n",
    "\n",
    "![taylor](../Assembly_Calculator_Final_Project/IMAGENES_PAGINA_WEB/serieTaylor.png)\n",
    "\n",
    "- Llegamos a la problematica de que la serie de Taylor es una serie muy compleja de implementar en Assembly, hoy en dia se usan librerias para calcular el valor de las funciones trigonométricas, pero Assembly 8086 no contaba con estas librerias para hacer los calculos, por lo que se tuvo que buscar otra forma de calcular el valor de las funciones trigonométricas.\n",
    "  \n",
    "- Se decidio utilizar entonces trigonometria basica para calcular el seno, coseno y tangente. Para esto se utilizo el triangulo unitario, el cual es un triangulo rectangulo con un cateto de longitud 1, y se utilizo el teorema de pitagoras para calcular el otro cateto, y asi poder calcular el seno, coseno y tangente de un angulo.\n",
    "\n",
    "![triangulo](../Assembly_Calculator_Final_Project/IMAGENES_PAGINA_WEB/sohcahtoa.png)\n",
    "\n",
    "- Tal como se muestra en la imagen de arriba se puede calcular el seno, coseno y tangente de un angulo utilizando trigonometria basica, y para esto se utilizo el siguiente codigo en Assembly 8086:\n",
    "\n",
    "` Al usuario se le pide que ingrese el valor de los catetos y la hipotenusa del triangulo unitario, y tiene una opcion para calcular seno, coseno y tangente`\n",
    "\n",
    "Para pedir los valores de los catetos y la hipotenusa se utilizo el siguiente codigo:\n",
    "\n",
    "```\n",
    "pedirSenoCosTan MACRO msg , dato\n",
    "\n",
    "\timprimir msg\n",
    "    ; Lee el primer número\n",
    "    mov ah, 01h   ; Función de entrada desde el teclado\n",
    "    int 21h       ; Llamada al servicio de interrupción de BIOS\n",
    "    sub al, 30h   ; Convierte el caracter ASCII en un número\n",
    "    mov decenas, al    ; Guarda el primer dígito en el registro BL\n",
    "\n",
    "    ; Lee el segundo número\n",
    "    mov ah, 01h   ; Función de entrada desde el teclado\n",
    "    int 21h       ; Llamada al servicio de interrupción de BIOS\n",
    "    sub al, 30h   ; Convierte el caracter ASCII en un número\n",
    "    mov unidades, al    ; Guarda el segundo dígito en el registro BH\n",
    "\n",
    "    ; Une los dos dígitos en un solo número\n",
    "\tmov al, decenas    ; Mueve el primer dígito al registro AL\n",
    "\tmov decenasPorTen, 10    ; Mueve el valor 10 al registro BL\n",
    "\tmul decenasPorTen       \n",
    "\tadd al, unidades    ; Suma unidades a AL\n",
    "\tmov dato, al  ; Guarda el número en la variable data\n",
    "\n",
    "\n",
    "\n",
    "endm \n",
    "```\n",
    "- El usuario ingresa un numero del 0 al 99, y se guarda en la variable dato. Como usamos macros para realizar funciones en nuestro codigo, esta variable dato despues se guarda en un registro, como el siguiente:\n",
    "\n",
    "```\n",
    "seno_res db ?\n",
    "```\n",
    "\n",
    "- el registro seno es quien ahora guarda los valores de los catetos y la hipotenusa del triangulo unitario, y se utiliza para calcular el seno, coseno y tangente de un angulo. \n",
    "  \n",
    "El codigo de Assembly se ve de la siguiente manera para calcular el seno:\n",
    "\n",
    "```\n",
    "operacionSeno macro\n",
    "imprimir msg_sen\n",
    "\n",
    "xor ax,ax\n",
    "mov al, num1\n",
    "mov bl,num2\n",
    "div bl\n",
    "aam\n",
    "        \n",
    "mov decenas,ah\n",
    "mov unidades,al\n",
    "        \n",
    "add decenas,30h\n",
    "add unidades,30h\n",
    "; imprimir valores\n",
    "mov ah,02h\n",
    "mov dl,decenas\n",
    "int 21h\n",
    "        \n",
    "mov ah,02h\n",
    "mov dl,unidades\n",
    "int 21h\n",
    "endm\n",
    "```\n",
    "\n",
    "- El codigo de Assembly se ve de la siguiente manera para calcular el coseno:\n",
    "\n",
    "```\n",
    "operacionCoseno macro\n",
    "imprimir msg_cos\n",
    "\n",
    "xor ax,ax\n",
    "mov al, num1\n",
    "mov bl,num2\n",
    "div bl\n",
    "aam\n",
    "        \n",
    "mov decenas,ah\n",
    "mov unidades,al\n",
    "        \n",
    "add decenas,30h\n",
    "add unidades,30h\n",
    "; imprimir valores\n",
    "mov ah,02h\n",
    "mov dl,decenas\n",
    "int 21h\n",
    "        \n",
    "mov ah,02h\n",
    "mov dl,unidades\n",
    "int 21h\n",
    "endm\n",
    "```\n",
    "\n",
    "- El codigo de Assembly se ve de la siguiente manera para calcular la tangente:\n",
    "\n",
    "```\n",
    "operacionTangente macro\n",
    "imprimir msg_tan\n",
    "\n",
    "xor ax,ax\n",
    "mov al, num1\n",
    "mov bl,num2\n",
    "div bl\n",
    "aam\n",
    "        \n",
    "mov decenas,ah\n",
    "mov unidades,al\n",
    "        \n",
    "add decenas,30h\n",
    "add unidades,30h\n",
    "; imprimir valores\n",
    "mov ah,02h\n",
    "mov dl,decenas\n",
    "int 21h\n",
    "        \n",
    "mov ah,02h\n",
    "mov dl,unidades\n",
    "int 21h\n",
    "endm\n",
    "```\n",
    "\n",
    "- Como podemos ver en los tres casos se utiliza codigo similar pues se realizan operaciones similares, lo unico que cambia es la operacion que se realiza para calcular el seno, coseno y tangente.\n",
    "\n",
    "\n",
    "\n"
   ]
  },
  {
   "attachments": {},
   "cell_type": "markdown",
   "metadata": {},
   "source": [
    "##### Inversa de Seno, Coseno y Tangente"
   ]
  },
  {
   "attachments": {},
   "cell_type": "markdown",
   "metadata": {},
   "source": [
    "#### Problemas encontrados\n",
    "- Debido al tiempo solo se pudo implementar operaciones con numeros desde el 0 al 99, y no se pudo implementar operaciones con numeros negativos.\n",
    "- Lamentablemente debido a lo complejo que es el lenguaje de ensamblador, y a que no se contaba con librerias para realizar los calculos de las funciones trigonométricas, y como se menciono anteriormente, la serie de Taylor es muy compleja de implementar en Assembly 8086."
   ]
  },
  {
   "attachments": {},
   "cell_type": "markdown",
   "metadata": {},
   "source": [
    "### 3. Conclusiones"
   ]
  },
  {
   "attachments": {},
   "cell_type": "markdown",
   "metadata": {},
   "source": []
  }
 ],
 "metadata": {
  "kernelspec": {
   "display_name": "Python 3",
   "language": "python",
   "name": "python3"
  },
  "language_info": {
   "codemirror_mode": {
    "name": "ipython",
    "version": 3
   },
   "file_extension": ".py",
   "mimetype": "text/x-python",
   "name": "python",
   "nbconvert_exporter": "python",
   "pygments_lexer": "ipython3",
   "version": "3.11.3"
  },
  "orig_nbformat": 4
 },
 "nbformat": 4,
 "nbformat_minor": 2
}
