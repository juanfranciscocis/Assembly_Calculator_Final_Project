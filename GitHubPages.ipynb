{
 "cells": [
  {
   "attachments": {},
   "cell_type": "markdown",
   "metadata": {},
   "source": [
    "** Hola chicos aqui es donde vamos a armar el sitio web de GitHub Pages, este es un ipynb que solo debe tener markdown, una vez lo exportamos a html y lo renombramos como index.html github directamente lo va a reconocer como la pagina principal del sitio web y lo va a mostrar en la direccion https://juanfranciscocis.github.io/Assembly_Calculator_Final_Project/ **"
   ]
  },
  {
   "attachments": {},
   "cell_type": "markdown",
   "metadata": {},
   "source": [
    "# Assembly_Calculator_Final_Project\n",
    "### Edwin Jaramillo\n",
    "### Juan Francisco Cisneros\n",
    "### Randall Mencias\n",
    "### Daniela Gomez"
   ]
  },
  {
   "attachments": {},
   "cell_type": "markdown",
   "metadata": {},
   "source": [
    "### 1. Introduction\n",
    "#### Objetivo General\n",
    "- Desarrollar una calculadora en lenguaje Assembly que permita al estudiante aprender los \n",
    "fundamentos del lenguaje y aplicarlos en la resolución de operaciones aritméticas básicas.\n"
   ]
  },
  {
   "attachments": {},
   "cell_type": "markdown",
   "metadata": {},
   "source": [
    "#### Objetivos específicos\n",
    "- Reconocer la importancia de lenguajes de máquina como Assembly para comprender el \n",
    "funcionamiento interno de las computadoras y obtener habilidades útiles en el diseño de \n",
    "sistemas y aplicaciones de software.\n",
    "- Familiarizarse con los conceptos básicos de Assembly, como el uso de registros, memoria \n",
    "y de control de flujo.\n",
    "- Desarrollar habilidades de programación en Assembly, mediante la creación de funciones \n",
    "y subrutinas para realizar operaciones aritméticas"
   ]
  },
  {
   "attachments": {},
   "cell_type": "markdown",
   "metadata": {},
   "source": [
    "#### Descripción del proyecto\n",
    "- El presente proyecto consiste en implementar una calculadora en Assembly que permita realizar \n",
    "operaciones aritméticas básicas como suma, resta, multiplicación y división, así como logaritmos \n",
    "y funciones trigonométricas que incluyen seno, coseno, tangente y sus inversas. La calculadora\n",
    "permitirá al usuario ingresar los datos mediante el teclado y mostrar el resultado en pantalla. El \n",
    "proyecto incluirá pruebas unitarias para verificar el funcionamiento del código y se llevará a \n",
    "cabo utilizando programas, como Mars MIPS Simulator, para simular la ejecución de código. "
   ]
  },
  {
   "attachments": {},
   "cell_type": "markdown",
   "metadata": {},
   "source": [
    "#### Justificación\n",
    "- Assembly es un lenguaje de bajo nivel para interactuar directamente con la arquitectura y el \n",
    "hardware de una computadora, lo que lo convierte en una herramienta eficiente para el desarrollo \n",
    "de software de sistemas y aplicaciones de tiempo real. La creación de una calculadora implica la \n",
    "comprensión de conceptos fundamentales como el uso de registros y memoria, por lo que este \n",
    "trabajo permite aplicar conceptos teóricos en un contexto práctico que ayudará a comprender \n",
    "mejor los fundamentos de la informática. "
   ]
  },
  {
   "attachments": {},
   "cell_type": "markdown",
   "metadata": {},
   "source": [
    "### 2. Desarrollo"
   ]
  },
  {
   "attachments": {},
   "cell_type": "markdown",
   "metadata": {},
   "source": [
    "#### Macro \n",
    "Una macro es una secuencia de instrucciones que se definen una sola vez y se pueden invocar varias veces en diferentes partes de un programa. Una macro es similar a una función en otros lenguajes de programación, pero en lugar de tener una llamada de función, se tiene una llamada de macro.\n",
    "\n",
    "Cuando se define una macro, se especifica un nombre para la macro y se incluye una lista de instrucciones que se deben ejecutar cuando se llama la macro. Los parámetros también se pueden especificar en la definición de la macro, y estos parámetros se pueden utilizar en las instrucciones de la macro.\n",
    "\n",
    "Cuando se llama a una macro, los parámetros se pasan a la macro y se ejecutan las instrucciones de la macro en el lugar donde se realizó la llamada. En la mayoría de los ensambladores, las macros se definen utilizando la directiva \"macro\" y se terminan con la directiva \"endm\".\n",
    "\n",
    "Las macros se utilizan para hacer que el código sea más legible, más fácil de mantener y más fácil de reutilizar. Al definir una macro para una secuencia de instrucciones común, se puede utilizar la macro en lugar de escribir la secuencia de instrucciones repetidamente en diferentes partes del programa.\n",
    "\n",
    "Además, las macros también pueden utilizarse para definir instrucciones personalizadas que no están disponibles en el conjunto de instrucciones del procesador. De esta manera, se pueden crear macros para instrucciones complejas o que realizan múltiples operaciones para simplificar el código y hacerlo más legible.\n",
    "\n",
    "- Un ejemplo de como se define y usa una macro en el lenguaje de ensamblador:\n",
    "\n",
    "```\n",
    "; Definición de la macro\n",
    "macro add_numbers num1, num2\n",
    "    mov ax, num1\n",
    "    add ax, num2\n",
    "    mov result, ax\n",
    "endm\n",
    "\n",
    "; Llamada a la macro\n",
    "add_numbers 10, 20\n",
    "\n",
    "; Variables para almacenar los resultados\n",
    "result dw 0\n",
    "```\n",
    "- Este ejemplo muestra la sintaxis básica de una macro en ensamblador, donde se define la macro con la directiva \"macro\", se llama a la macro con los parámetros entre paréntesis, se utiliza una variable para almacenar el resultado."
   ]
  },
  {
   "attachments": {},
   "cell_type": "markdown",
   "metadata": {},
   "source": [
    "#### Suma"
   ]
  },
  {
   "attachments": {},
   "cell_type": "markdown",
   "metadata": {},
   "source": [
    "#### Resta"
   ]
  },
  {
   "attachments": {},
   "cell_type": "markdown",
   "metadata": {},
   "source": [
    "#### Multiplicación"
   ]
  },
  {
   "attachments": {},
   "cell_type": "markdown",
   "metadata": {},
   "source": [
    "#### División"
   ]
  },
  {
   "attachments": {},
   "cell_type": "markdown",
   "metadata": {},
   "source": [
    "#### Logaritmo base 10\n",
    "El logaritmo de base 10 no fue realizado ni si quiera por aproximacion por varias limitaciones que se encontro al momento de realizarlo. Algunas de estas limitaciones fueron: basado en la serie de Taylor, la cual es muy compleja de implementar en Assembly, y no se encontro una forma de calcular el logaritmo de base 10 sin utilizar la serie de Taylor. Existe una manera de aproximar el valor del logartimo pero esta implica la utilizacion de numeros decimales que de igual manera no estan disponibles en la arquitectura de 16 bits de Assembly 8086.:\n",
    "Un ejemplo de esta aproximacion se puede utilizar en el log(25) = 1.39. Se obtiene este valor utilizando la formula $\\frac{25}{10^n}$ donde n es dado por la cantidad de digitos que tiene  el numero empezando a contar desde 0. En este caso el numero 25 tiene 2 digitos por lo que n = 1.\n",
    "Seguido de esto se eleva este resultado $2.5^{10}$ y se cuenta la cantidad de digitos. $2.5^10 = 9536$. Este resultado tiene 4 digitos por lo tanto $n=n-1=3$ por lo que este es el segundo digito de la aproximacion.\n",
    "\n",
    "Este proceso puede ser repetido hasta que se obtenga la precision deseada.\n",
    "\n",
    "En el caso de Assembly 8086 no se puede utilizar este metodo ya que no se pueden utilizar numeros decimales. e incluso utilizando la propiedad de las potencias done $(a/b)^n = a^n/b^n$ no se puede obtener el resultado ya que muchas veces el valor de $a^n$ se tendria que elevar a 10 y este muchas veces es mayor que el valor maximo que se puede almacenar en un registro de 16 bits."
   ]
  },
  {
   "attachments": {},
   "cell_type": "markdown",
   "metadata": {},
   "source": [
    "##### Modulo\n",
    "El proceso del modulo ya viene integrado dentro de las instrucciones de Assembly en la misma direccion de la division.\n",
    "```\n",
    "        imprimir msg_modulo\n",
    "\t\txor ax,ax\n",
    "        mov al, num1\n",
    "        mov bl,num2\n",
    "        div bl\n",
    "        mov al,ah\n",
    "        aam\n",
    "\n",
    "        mov decenas,ah\n",
    "        mov unidades,al\n",
    "\n",
    "        add decenas,30h\n",
    "        add unidades,30h\n",
    "        ; imprimir valores\n",
    "        mov ah,02h\n",
    "        mov dl,decenas\n",
    "        int 21h\n",
    "\n",
    "        mov ah,02h\n",
    "        mov dl,unidades\n",
    "        int 21h\n",
    "endm\n",
    "```\n",
    "En esta el div almacena el residuo de la funcion o el modulo de la division el el register de ah, por lo cual se procede almacenar este valor en al para poder imprimirlo."
   ]
  },
  {
   "cell_type": "markdown",
   "source": [
    "#### Factorial\n",
    "\n",
    "Para realizar el factorial en Assembly 8086 se tiene que utilzar una forma de iteracion para poder realizar la multiplicacion de los numeros . En este caso se utilizo un ciclo inverso al original. Utilizando el numero deseado este se cargo al registro y se multiplico por los extremos y se procede a reducir el extremo por 1. Como ejemplo el numero 6\n",
    "$5! = 1*2*3*4*5*6 $ el codigo utilizado realiza las multiplicaciones por los extremos es decir $ 6*1= 6$ y luego se realiza $6*5=30$ y asi sucesivamente hasta llegar a 1. Utilizando un comparador para revisar si el extremo llego a 1 y si no repetir el proceso.\n",
    "```\n",
    "xor ax,ax\n",
    "        imprimir new_line\n",
    "        mov bl, num1\n",
    "        mov al, 1\n",
    "        mul bl\n",
    "        dec bl\n",
    "        cmp bl,0\n",
    "\n",
    "\n",
    "```\n",
    "Una vez calculado el factorial se procede a imprimirlo en pantalla, sin embargo aqui existe el siguiente problema. La precision de impresion es de 16 bits, por lo que si se desea imprimir un numero mayor a 16 bits se tendra un error. E inlcuso con numeros aceptados existe error por parte del metodo de impresion ya que repite el ultimo numero almacenado a pesar de estar divido en partes y utilizar el metodo ascii para imprimirlo.\n",
    "```\n",
    "       aam\n",
    "        mov decenas,ah\n",
    "        mov unidades,al\n",
    "        add unidades,30h\n",
    "        mov al, ah\n",
    "        cmp al,0\n",
    "        jbe end\n",
    "\n",
    "        add decenas,30h ;ajuste manual\n",
    "\n",
    "        ; imprimir valores\n",
    "        mov ah,02h\n",
    "        mov dl,decenas\n",
    "        int 21h\n",
    "\n",
    "\n",
    "        end:\n",
    "\n",
    "        mov ah,02h\n",
    "        mov dl,unidades\n",
    "        int 21h\n",
    "\n",
    "\n",
    "endm\n",
    "```\n",
    "Incluso tratando de limitarlo por partes por si el resultado es menor que 10 no dio resultado, ya que el metodo de impresion en Emu8086 no es muy preciso.\n",
    "\n"
   ],
   "metadata": {
    "collapsed": false
   }
  },
  {
   "cell_type": "markdown",
   "source": [],
   "metadata": {
    "collapsed": false
   }
  },
  {
   "cell_type": "markdown",
   "source": [
    "### Porcentaje\n",
    "Para realizar el porcentaje se utilizo la formula de porcentaje que es $\\frac{a}{b}*100$. Sin embargo el proceso tuvo que modificarse ligeramtete multiplicando $a*100$ primero para evitar problemas con numeros decimales. Sin embargo el proceso retorna 0 para porcentajes muy pequenos debido a la falta de precision de los registros de 16 bits.\n",
    "```\n",
    "       imprimir msg_div\n",
    "        ;cuanto es porcentaje de num1 en num2\n",
    "        mov al, num1\n",
    "        mov bl, 100\n",
    "        mul bl\n",
    "        mov bl, num2\n",
    "        div bl\n",
    "        aam\n",
    "        mov decenas,ah\n",
    "        mov unidades,al\n",
    "        add decenas,30h\n",
    "        add unidades,30h\n",
    "        ; imprimir valores\n",
    "        mov ah,02h\n",
    "        mov dl,decenas\n",
    "        int 21h\n",
    "        mov ah,02h\n",
    "        mov dl,unidades\n",
    "        int 21h\n",
    "```\n",
    "Durante el proceso de esta funcion se pudo observar como la arquitectura limita muchas funciones comunes e incluso sensillas y como se debe circumventar estas para igualmente obtener el resultado deseado o al menos aproximado al correcto"
   ],
   "metadata": {
    "collapsed": false
   }
  },
  {
   "attachments": {},
   "cell_type": "markdown",
   "metadata": {},
   "source": [
    "#### Potencia"
   ]
  },
  {
   "attachments": {},
   "cell_type": "markdown",
   "metadata": {},
   "source": [
    "#### Raiz"
   ]
  },
  {
   "attachments": {},
   "cell_type": "markdown",
   "metadata": {},
   "source": [
    "#### Seno, Coseno y Tangente"
   ]
  },
  {
   "attachments": {},
   "cell_type": "markdown",
   "metadata": {},
   "source": [
    "- Para el desarrollo de las funciones trigonométricas se queria utilizar la serie de Taylor para calcular el valor de cada función. La serie de Taylor es una aproximación de una función mediante una serie de potencias, y se define como:\n",
    "\n",
    "![taylor](../Assembly_Calculator_Final_Project/IMAGENES_PAGINA_WEB/serieTaylor.png)\n",
    "\n",
    "- Llegamos a la problematica de que la serie de Taylor es una serie muy compleja de implementar en Assembly, hoy en dia se usan librerias para calcular el valor de las funciones trigonométricas, pero Assembly 8086 no contaba con estas librerias para hacer los calculos, por lo que se tuvo que buscar otra forma de calcular el valor de las funciones trigonométricas.\n",
    "  \n",
    "- Se decidio utilizar entonces trigonometria basica para calcular el seno, coseno y tangente. Para esto se utilizo el triangulo unitario, el cual es un triangulo rectangulo con un cateto de longitud 1, y se utilizo el teorema de pitagoras para calcular el otro cateto, y asi poder calcular el seno, coseno y tangente de un angulo.\n",
    "\n",
    "![triangulo](../Assembly_Calculator_Final_Project/IMAGENES_PAGINA_WEB/sohcahtoa.png)\n",
    "\n",
    "- Tal como se muestra en la imagen de arriba se puede calcular el seno, coseno y tangente de un angulo utilizando trigonometria basica, y para esto se utilizo el siguiente codigo en Assembly 8086:\n",
    "\n",
    "` Al usuario se le pide que ingrese el valor de los catetos y la hipotenusa del triangulo unitario, y tiene una opcion para calcular seno, coseno y tangente`\n",
    "\n",
    "Para pedir los valores de los catetos y la hipotenusa se utilizo el siguiente codigo:\n",
    "\n",
    "```\n",
    "pedirSenoCosTan MACRO msg , dato\n",
    "\n",
    "\timprimir msg\n",
    "    ; Lee el primer número\n",
    "    mov ah, 01h   ; Función de entrada desde el teclado\n",
    "    int 21h       ; Llamada al servicio de interrupción de BIOS\n",
    "    sub al, 30h   ; Convierte el caracter ASCII en un número\n",
    "    mov decenas, al    ; Guarda el primer dígito en el registro BL\n",
    "\n",
    "    ; Lee el segundo número\n",
    "    mov ah, 01h   ; Función de entrada desde el teclado\n",
    "    int 21h       ; Llamada al servicio de interrupción de BIOS\n",
    "    sub al, 30h   ; Convierte el caracter ASCII en un número\n",
    "    mov unidades, al    ; Guarda el segundo dígito en el registro BH\n",
    "\n",
    "    ; Une los dos dígitos en un solo número\n",
    "\tmov al, decenas    ; Mueve el primer dígito al registro AL\n",
    "\tmov decenasPorTen, 10    ; Mueve el valor 10 al registro BL\n",
    "\tmul decenasPorTen       \n",
    "\tadd al, unidades    ; Suma unidades a AL\n",
    "\tmov dato, al  ; Guarda el número en la variable data\n",
    "\n",
    "\n",
    "\n",
    "endm \n",
    "```\n",
    "- El usuario ingresa un numero del 0 al 99, y se guarda en la variable dato. Como usamos macros para realizar funciones en nuestro codigo, esta variable dato despues se guarda en un registro, como el siguiente:\n",
    "\n",
    "```\n",
    "seno_res db ?\n",
    "```\n",
    "\n",
    "- el registro seno es quien ahora guarda los valores de los catetos y la hipotenusa del triangulo unitario, y se utiliza para calcular el seno, coseno y tangente de un angulo. \n",
    "  \n",
    "El codigo de Assembly se ve de la siguiente manera para calcular el seno:\n",
    "\n",
    "```\n",
    "operacionSeno macro\n",
    "imprimir msg_sen\n",
    "\n",
    "xor ax,ax\n",
    "mov al, num1\n",
    "mov bl,num2\n",
    "div bl\n",
    "aam\n",
    "        \n",
    "mov decenas,ah\n",
    "mov unidades,al\n",
    "        \n",
    "add decenas,30h\n",
    "add unidades,30h\n",
    "; imprimir valores\n",
    "mov ah,02h\n",
    "mov dl,decenas\n",
    "int 21h\n",
    "        \n",
    "mov ah,02h\n",
    "mov dl,unidades\n",
    "int 21h\n",
    "endm\n",
    "```\n",
    "\n",
    "- El codigo de Assembly se ve de la siguiente manera para calcular el coseno:\n",
    "\n",
    "```\n",
    "operacionCoseno macro\n",
    "imprimir msg_cos\n",
    "\n",
    "xor ax,ax\n",
    "mov al, num1\n",
    "mov bl,num2\n",
    "div bl\n",
    "aam\n",
    "        \n",
    "mov decenas,ah\n",
    "mov unidades,al\n",
    "        \n",
    "add decenas,30h\n",
    "add unidades,30h\n",
    "; imprimir valores\n",
    "mov ah,02h\n",
    "mov dl,decenas\n",
    "int 21h\n",
    "        \n",
    "mov ah,02h\n",
    "mov dl,unidades\n",
    "int 21h\n",
    "endm\n",
    "```\n",
    "\n",
    "- El codigo de Assembly se ve de la siguiente manera para calcular la tangente:\n",
    "\n",
    "```\n",
    "operacionTangente macro\n",
    "imprimir msg_tan\n",
    "\n",
    "xor ax,ax\n",
    "mov al, num1\n",
    "mov bl,num2\n",
    "div bl\n",
    "aam\n",
    "        \n",
    "mov decenas,ah\n",
    "mov unidades,al\n",
    "        \n",
    "add decenas,30h\n",
    "add unidades,30h\n",
    "; imprimir valores\n",
    "mov ah,02h\n",
    "mov dl,decenas\n",
    "int 21h\n",
    "        \n",
    "mov ah,02h\n",
    "mov dl,unidades\n",
    "int 21h\n",
    "endm\n",
    "```\n",
    "\n",
    "- Como podemos ver en los tres casos se utiliza codigo similar pues se realizan operaciones similares, lo unico que cambia es la operacion que se realiza para calcular el seno, coseno y tangente.\n",
    "\n",
    "\n",
    "\n"
   ]
  },
  {
   "attachments": {},
   "cell_type": "markdown",
   "metadata": {},
   "source": [
    "##### Inversa de Seno, Coseno y Tangente"
   ]
  },
  {
   "attachments": {},
   "cell_type": "markdown",
   "metadata": {},
   "source": [
    "#### Problemas encontrados\n",
    "- Debido al tiempo solo se pudo implementar operaciones con numeros desde el 0 al 99, y no se pudo implementar operaciones con numeros negativos.\n",
    "- Lamentablemente debido a lo complejo que es el lenguaje de ensamblador, y a que no se contaba con librerias para realizar los calculos de las funciones trigonométricas, y como se menciono anteriormente, la serie de Taylor es muy compleja de implementar en Assembly 8086.\n",
    "- Uno de los mayores problemas encontrados se dio con el manejo de la impresion, debido a que el emulador escogido para realizar el proyecto tenian fuertes limitaciones al momento de imprimir la pantalla en conjunto con una sintax diferentes a otras arquitecturas"
   ]
  },
  {
   "attachments": {},
   "cell_type": "markdown",
   "metadata": {},
   "source": [
    "### 3. Conclusiones\n",
    "- Una vez realizado proyecto se pueden obtener varias conlusiones del lenguaje de Assembly. Primariamente este es sumamente limitado por la arquitectura que se encuentra corriendo, en este caso el emulador que se utilizo, por lo que se debe tener en cuenta que no se puede utilizar cualquier instruccion. Muchas veces durante el proceso de investigacion se encontraban instruciones que no existian dentro de esta arquitectura.\n",
    "- En conjunto con esto, este idioma debido a que es un lenguaje de bajo nivel es dificil de comprender y de implementar, especialmente en funciones que otros idiomas se toman como algo trivial, como lo es la impresion de un mensaje en pantalla. Que creo varios problemas en este proyecto\n",
    "- Es por estas limitaciones que el idioma requiere de igual manera un alto nivel matematico y logico para poder realizar funciones de maneras mas abstractas como fue el caso del porcentaje que a pesar de solo cambiar de orden ya se tiene que pensar en como va implmentar la formula.\n",
    "- A pesar de todas las limitaciones encontradas el idioma es sumamente eficiente y veloz, al momento de probarlo se puede ver que los calculos se realizan de manera casi instantanea, y que el programa no tiene ningun tipo de retraso al momento de realizar las operaciones\n",
    "\n"
   ]
  },
  {
   "attachments": {},
   "cell_type": "markdown",
   "metadata": {},
   "source": []
  }
 ],
 "metadata": {
  "kernelspec": {
   "display_name": "Python 3",
   "language": "python",
   "name": "python3"
  },
  "language_info": {
   "codemirror_mode": {
    "name": "ipython",
    "version": 3
   },
   "file_extension": ".py",
   "mimetype": "text/x-python",
   "name": "python",
   "nbconvert_exporter": "python",
   "pygments_lexer": "ipython3",
   "version": "3.11.3"
  },
  "orig_nbformat": 4
 },
 "nbformat": 4,
 "nbformat_minor": 2
}
